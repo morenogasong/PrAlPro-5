{
  "nbformat": 4,
  "nbformat_minor": 0,
  "metadata": {
    "colab": {
      "provenance": []
    },
    "kernelspec": {
      "name": "python3",
      "display_name": "Python 3"
    },
    "language_info": {
      "name": "python"
    }
  },
  "cells": [
    {
      "cell_type": "markdown",
      "source": [
        "**Latihan 6.1**\n",
        "Buatlah program untuk mencari bilangan prima terdekat dari suatu bilangan yang diinputkan oleh pengguna (n) dan nilai bilangan prima tersebut < n. Contoh: input n=12, maka prima terdekat < 12 adalah 11 Contoh: input n=21, maka prima terdekat < 21 adalah 19\n"
      ],
      "metadata": {
        "id": "J0a0GvKvQYRL"
      }
    },
    {
      "cell_type": "code",
      "source": [
        "def mendekati_prima(n):\n",
        "    i = n - 1\n",
        "    while i > 1:\n",
        "        if prima(i):\n",
        "            return i\n",
        "        i -= 1\n",
        "    return None\n",
        "\n",
        "def prima(angka):\n",
        "    if angka < 2:\n",
        "        return False\n",
        "    for i in range(2, int(angka**0.5) + 1):\n",
        "        if angka % i == 0:\n",
        "            return False\n",
        "    return True\n",
        "\n",
        "n = int(input(\"Masukkan angka : \"))\n",
        "prima1 = mendekati_prima(n)\n",
        "\n",
        "if prima1 is None:\n",
        "    print(\"Tidak dapat ditemukan\")\n",
        "else:\n",
        "    print(prima1)"
      ],
      "metadata": {
        "colab": {
          "base_uri": "https://localhost:8080/"
        },
        "id": "6Vhn2lWJQbtP",
        "outputId": "184c4492-f267-4cd5-b8f8-26edd46e44b9"
      },
      "execution_count": 2,
      "outputs": [
        {
          "output_type": "stream",
          "name": "stdout",
          "text": [
            "Masukkan angka : 530\n",
            "523\n"
          ]
        }
      ]
    },
    {
      "cell_type": "markdown",
      "source": [
        "**Latihan 6.2**\n",
        "Buatlah program untuk menampilkan deret seperti di bawah ini. n diinputkan secara dinamis contoh:\n",
        "\n",
        "n = 6\n",
        "\n",
        "720 6 5 4 3 2 1\n",
        "\n",
        "120 5 4 3 2 1\n",
        "\n",
        "24 4 3 2 1\n",
        "\n",
        "6 3 2 1\n",
        "\n",
        "2 2 1\n",
        "\n",
        "1 1\n"
      ],
      "metadata": {
        "id": "Pn_-QrwiQmU-"
      }
    },
    {
      "cell_type": "code",
      "source": [
        "n = int(input(\"Masukkan nilai n : \"))\n",
        "\n",
        "for i in range(n, 0, -1):\n",
        "    angka = 1\n",
        "    for j in range(1, i + 1):\n",
        "        angka *= j\n",
        "    print(angka, end=\" \")\n",
        "    for j in range(i, 0, -1):\n",
        "        print(j, end=\" \")\n",
        "    print()\n"
      ],
      "metadata": {
        "colab": {
          "base_uri": "https://localhost:8080/"
        },
        "id": "Gb_HPqF-Q4zk",
        "outputId": "4498da7b-8ec3-403b-c54a-360e31e0bdbc"
      },
      "execution_count": 3,
      "outputs": [
        {
          "output_type": "stream",
          "name": "stdout",
          "text": [
            "Masukkan nilai n : 8\n",
            "40320 8 7 6 5 4 3 2 1 \n",
            "5040 7 6 5 4 3 2 1 \n",
            "720 6 5 4 3 2 1 \n",
            "120 5 4 3 2 1 \n",
            "24 4 3 2 1 \n",
            "6 3 2 1 \n",
            "2 2 1 \n",
            "1 1 \n"
          ]
        }
      ]
    },
    {
      "cell_type": "markdown",
      "source": [
        "**Latihan 6.3**\n",
        "Buatlah program untuk menampilkan deret seperti di bawah ini. n diinputkan secara dinamis\n",
        "\n",
        "contoh: tinggi = 5, lebar = 4\n",
        "\n",
        "1 2 3 4\n",
        "\n",
        "5 6 7 8\n",
        "\n",
        "9 10 11 12\n",
        "\n",
        "13 14 15 16\n",
        "\n",
        "17 18 19 20\n",
        "\n"
      ],
      "metadata": {
        "id": "KfyrBroPQ_39"
      }
    },
    {
      "cell_type": "code",
      "source": [
        "tinggi = int(input(\"Masukkan tinggi : \"))\n",
        "lebar = int(input(\"Masukkan lebar : \"))\n",
        "\n",
        "angka = 1\n",
        "for i in range(tinggi):\n",
        "    for j in range(lebar):\n",
        "        print(angka , end=\" \")\n",
        "        angka += 1\n",
        "    print()"
      ],
      "metadata": {
        "colab": {
          "base_uri": "https://localhost:8080/"
        },
        "id": "d13D4kRqRIFR",
        "outputId": "020a7fcf-893a-49cd-ec07-bf7ec547df98"
      },
      "execution_count": 4,
      "outputs": [
        {
          "output_type": "stream",
          "name": "stdout",
          "text": [
            "Masukkan tinggi : 2\n",
            "Masukkan lebar : 10\n",
            "1 2 3 4 5 6 7 8 9 10 \n",
            "11 12 13 14 15 16 17 18 19 20 \n"
          ]
        }
      ]
    }
  ]
}